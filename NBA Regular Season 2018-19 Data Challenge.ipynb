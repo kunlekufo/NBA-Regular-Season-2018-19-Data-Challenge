{
 "cells": [
  {
   "cell_type": "markdown",
   "metadata": {},
   "source": [
    "# Nba Regular Season 2018-19 Data Challenge\n",
    "\n",
    "Your task will be to take the dataset given, and create an analysis answering the following 10 questions. This project will again test your knowledge of pandas in order to find the answers needed given the data you are presented with."
   ]
  },
  {
   "cell_type": "markdown",
   "metadata": {},
   "source": [
    "# What was the average age of player in the league?"
   ]
  },
  {
   "cell_type": "code",
   "execution_count": 2,
   "metadata": {},
   "outputs": [
    {
     "name": "stdout",
     "output_type": "stream",
     "text": [
      "Index(['Name', 'Height', 'Weight', 'Team', 'Age', 'Salary', 'Points', 'Blocks',\n",
      "       'Steals', 'Assists', 'Rebounds', 'FT%', 'FTA', 'FG3%', 'FG3A', 'FG%',\n",
      "       'FGA', 'MP', 'G', 'PER', 'OWS', 'DWS', 'WS', 'WS48', 'USG', 'BPM',\n",
      "       'VORP'],\n",
      "      dtype='object')\n",
      "The average age of players in the NBA is: 25.90 years\n"
     ]
    }
   ],
   "source": [
    "import pandas as pd\n",
    "\n",
    "# Read the CSV file into a DataFrame\n",
    "df = pd.read_csv('nbastats2018-2019.csv')\n",
    "\n",
    "# Display the columns in the DataFrame to identify the one containing age information\n",
    "print(df.columns)\n",
    "\n",
    "# Calculate the average age\n",
    "average_age = df['Age'].mean()\n",
    "\n",
    "# Display the result\n",
    "print(f'The average age of players in the NBA is: {average_age:.2f} years')\n"
   ]
  },
  {
   "cell_type": "markdown",
   "metadata": {},
   "source": [
    "# What player scored the most points?"
   ]
  },
  {
   "cell_type": "code",
   "execution_count": 6,
   "metadata": {},
   "outputs": [
    {
     "name": "stdout",
     "output_type": "stream",
     "text": [
      "Player with the most points:\n",
      "Name      James Harden\n",
      "Points            36.1\n",
      "Name: 202, dtype: object\n"
     ]
    }
   ],
   "source": [
    "import pandas as pd\n",
    "\n",
    "# Load the CSV file into a pandas DataFrame\n",
    "df = pd.read_csv('nbastats2018-2019.csv')\n",
    "\n",
    "# Find the player who scored the most points\n",
    "max_points_player = df.loc[df['Points'].idxmax()]\n",
    "\n",
    "# Display the player's information\n",
    "print(\"Player with the most points:\")\n",
    "print(max_points_player[['Name','Points']])\n"
   ]
  },
  {
   "cell_type": "markdown",
   "metadata": {},
   "source": [
    "# What player had the most blocks during the season? Was it a post player (F/C)?"
   ]
  },
  {
   "cell_type": "code",
   "execution_count": 14,
   "metadata": {},
   "outputs": [
    {
     "name": "stdout",
     "output_type": "stream",
     "text": [
      "The player name with the most blocks during the season is: Myles Turner\n",
      " Players type or position column data not reported\n"
     ]
    }
   ],
   "source": [
    "import pandas as pd\n",
    "\n",
    "# Read the CSV file\n",
    "df = pd.read_csv('nbastats2018-2019.csv')\n",
    "\n",
    "player_with_most_blocks = df.loc[df['Blocks'].idxmax()]['Name']\n",
    "\n",
    "print(f\"The player name with the most blocks during the season is: {player_with_most_blocks}\")\n",
    "print(f' Players type or position column data not reported')\n",
    "\n"
   ]
  },
  {
   "cell_type": "markdown",
   "metadata": {},
   "source": [
    "# Based on the regular season, who had the best chance to win a title given their win percentage?"
   ]
  },
  {
   "cell_type": "code",
   "execution_count": 19,
   "metadata": {},
   "outputs": [
    {
     "name": "stdout",
     "output_type": "stream",
     "text": [
      "Team with the best points percentage:\n",
      "Oklahoma City Thunder\n"
     ]
    }
   ],
   "source": [
    "import pandas as pd\n",
    "\n",
    "# Load the dataset\n",
    "file_path = 'nbastats2018-2019.csv'\n",
    "df = pd.read_csv(file_path)\n",
    "\n",
    "# Calculate points percentage for each team\n",
    "df['Points'] = df['Points'] / (df['Points'] + df['Points'])\n",
    "\n",
    "# Find the team with the highest points percentage\n",
    "best_team = df.loc[df['Points'].idxmax()]\n",
    "\n",
    "print(\"Team with the best points percentage:\")\n",
    "print(best_team['Team'])\n"
   ]
  },
  {
   "cell_type": "markdown",
   "metadata": {},
   "source": [
    "# What player had the best 3-pt percentage? "
   ]
  },
  {
   "cell_type": "code",
   "execution_count": 21,
   "metadata": {},
   "outputs": [
    {
     "name": "stdout",
     "output_type": "stream",
     "text": [
      "The player with the best 3-point percentage in the 2018-2019 season is Scott Machado with a percentage of 1.0.\n"
     ]
    }
   ],
   "source": [
    "import pandas as pd\n",
    "\n",
    "# Load the CSV file into a DataFrame\n",
    "df = pd.read_csv('nbastats2018-2019.csv')\n",
    "\n",
    "# Sort the DataFrame by 3P%\n",
    "sorted_df = df.sort_values(by='FG3%', ascending=False)\n",
    "\n",
    "# Display the player with the best 3-point percentage\n",
    "best_3pt_player = sorted_df.iloc[0]['Name']\n",
    "best_3pt_percentage = sorted_df.iloc[0]['FG3%']\n",
    "\n",
    "print(f\"The player with the best 3-point percentage in the 2018-2019 season is {best_3pt_player} with a percentage of {best_3pt_percentage}.\")\n"
   ]
  },
  {
   "cell_type": "markdown",
   "metadata": {},
   "source": [
    "# Who played the most minutes during the season"
   ]
  },
  {
   "cell_type": "code",
   "execution_count": 22,
   "metadata": {},
   "outputs": [
    {
     "name": "stdout",
     "output_type": "stream",
     "text": [
      "Index(['Name', 'Height', 'Weight', 'Team', 'Age', 'Salary', 'Points', 'Blocks',\n",
      "       'Steals', 'Assists', 'Rebounds', 'FT%', 'FTA', 'FG3%', 'FG3A', 'FG%',\n",
      "       'FGA', 'MP', 'G', 'PER', 'OWS', 'DWS', 'WS', 'WS48', 'USG', 'BPM',\n",
      "       'VORP'],\n",
      "      dtype='object')\n",
      "Player with the most minutes played:\n",
      "Name              Bradley Beal\n",
      "Height                      77\n",
      "Weight                     207\n",
      "Team        Washington Wizards\n",
      "Age                         25\n",
      "Salary                25434263\n",
      "Points                    25.6\n",
      "Blocks                     0.7\n",
      "Steals                     1.5\n",
      "Assists                    5.5\n",
      "Rebounds                   5.0\n",
      "FT%                      0.808\n",
      "FTA                        5.5\n",
      "FG3%                     0.351\n",
      "FG3A                       7.3\n",
      "FG%                      0.475\n",
      "FGA                       19.6\n",
      "MP                        36.9\n",
      "G                           82\n",
      "PER                       20.8\n",
      "OWS                        5.9\n",
      "DWS                        1.7\n",
      "WS                         7.6\n",
      "WS48                      0.12\n",
      "USG                       28.4\n",
      "BPM                        2.8\n",
      "VORP                       3.7\n",
      "Name: 37, dtype: object\n"
     ]
    }
   ],
   "source": [
    "import pandas as pd\n",
    "\n",
    "# Load the CSV file into a DataFrame\n",
    "df = pd.read_csv('nbastats2018-2019.csv')\n",
    "\n",
    "# Display the columns in the DataFrame to identify the column containing minutes played\n",
    "print(df.columns)\n",
    "most_minutes_player = df.loc[df['MP'].idxmax()]\n",
    "\n",
    "# Print the player information\n",
    "print(\"Player with the most minutes played:\")\n",
    "print(most_minutes_player)\n"
   ]
  },
  {
   "cell_type": "markdown",
   "metadata": {},
   "source": [
    "# What player given their player effiecency rating was the clutchest during the season?"
   ]
  },
  {
   "cell_type": "code",
   "execution_count": 25,
   "metadata": {},
   "outputs": [
    {
     "name": "stdout",
     "output_type": "stream",
     "text": [
      "Data on 'PER' and/or 'clutch_condition' is not available in the dataset.\n"
     ]
    }
   ],
   "source": [
    "import pandas as pd\n",
    "\n",
    "# Load the data from the CSV file\n",
    "file_path = 'nbastats2018-2019.csv'\n",
    "df = pd.read_csv(file_path)\n",
    "\n",
    "# Check if 'PER' and 'clutch_condition' columns exist in the dataset\n",
    "if 'PER' in df.columns and 'clutch_condition' in df.columns:\n",
    "    # Filter data for clutch conditions\n",
    "    clutch_data = df[df['clutch_condition'] == 1]\n",
    "\n",
    "    # Find the player with the highest PER in clutch situations\n",
    "    clutchest_player = clutch_data.loc[clutch_data['PER'].idxmax()]\n",
    "\n",
    "    # Print information about the clutchest player\n",
    "    print(\"Clutchest Player:\")\n",
    "    print(clutchest_player)\n",
    "\n",
    "else:\n",
    "    print(\"Data on 'PER' and/or 'clutch_condition' is not available in the dataset.\")\n"
   ]
  },
  {
   "cell_type": "markdown",
   "metadata": {},
   "source": [
    "# What team had the youngest roster?"
   ]
  },
  {
   "cell_type": "code",
   "execution_count": 26,
   "metadata": {},
   "outputs": [
    {
     "name": "stdout",
     "output_type": "stream",
     "text": [
      "The team with the youngest roster on average is: Chicago Bulls\n"
     ]
    }
   ],
   "source": [
    "import pandas as pd\n",
    "\n",
    "# Read the CSV file\n",
    "df = pd.read_csv('nbastats2018-2019.csv')\n",
    "# You can find the team with the youngest average age\n",
    "youngest_team = df.groupby('Team')['Age'].mean().idxmin()\n",
    "\n",
    "print(f\"The team with the youngest roster on average is: {youngest_team}\")\n"
   ]
  },
  {
   "cell_type": "markdown",
   "metadata": {},
   "source": [
    "# Who is the highest paid player during the seasion?"
   ]
  },
  {
   "cell_type": "code",
   "execution_count": 30,
   "metadata": {},
   "outputs": [
    {
     "name": "stdout",
     "output_type": "stream",
     "text": [
      "The highest paid player during the 2018-2019 NBA season is: Stephen Curry\n"
     ]
    }
   ],
   "source": [
    "import pandas as pd\n",
    "\n",
    "# Load the CSV file into a DataFrame\n",
    "df = pd.read_csv('nbastats2018-2019.csv')\n",
    "\n",
    "# Assuming the column containing player salaries is named 'Salary'\n",
    "# Replace '-' with NaN and convert the column to numeric values\n",
    "df['Salary'] = pd.to_numeric(df['Salary'].replace('-', 'NaN'), errors='coerce')\n",
    "\n",
    "# Find the highest paid player\n",
    "highest_paid_player = df.loc[df['Salary'].idxmax()]\n",
    "\n",
    "print(\"The highest paid player during the 2018-2019 NBA season is:\", highest_paid_player['Name'])\n"
   ]
  },
  {
   "cell_type": "markdown",
   "metadata": {},
   "source": [
    "# At the end of a game, who WOULDN'T you want on the Free Throw Line?"
   ]
  },
  {
   "cell_type": "code",
   "execution_count": 32,
   "metadata": {},
   "outputs": [
    {
     "name": "stdout",
     "output_type": "stream",
     "text": [
      "Index(['Name', 'Height', 'Weight', 'Team', 'Age', 'Salary', 'Points', 'Blocks',\n",
      "       'Steals', 'Assists', 'Rebounds', 'FT%', 'FTA', 'FG3%', 'FG3A', 'FG%',\n",
      "       'FGA', 'MP', 'G', 'PER', 'OWS', 'DWS', 'WS', 'WS48', 'USG', 'BPM',\n",
      "       'VORP'],\n",
      "      dtype='object')\n",
      "Player with the lowest free-throw percentage:\n",
      "Name    Jacob Evans\n",
      "FT%             0.0\n",
      "Name: 154, dtype: object\n"
     ]
    }
   ],
   "source": [
    "import pandas as pd\n",
    "\n",
    "# Load the NBA statistics CSV file\n",
    "file_path = 'nbastats2018-2019.csv'\n",
    "nba_stats = pd.read_csv(file_path)\n",
    "\n",
    "# Display the available columns in the dataset\n",
    "print(nba_stats.columns)\n",
    "\n",
    "# Identify the player with the lowest free-throw percentage\n",
    "worst_ft_percentage_player = nba_stats.loc[nba_stats['FT%'].idxmin()]\n",
    "\n",
    "# Display information about the player with the lowest free-throw percentage\n",
    "print(\"Player with the lowest free-throw percentage:\")\n",
    "print(worst_ft_percentage_player[['Name', 'FT%']])\n"
   ]
  },
  {
   "cell_type": "code",
   "execution_count": null,
   "metadata": {},
   "outputs": [],
   "source": []
  }
 ],
 "metadata": {
  "kernelspec": {
   "display_name": "Python 3 (ipykernel)",
   "language": "python",
   "name": "python3"
  },
  "language_info": {
   "codemirror_mode": {
    "name": "ipython",
    "version": 3
   },
   "file_extension": ".py",
   "mimetype": "text/x-python",
   "name": "python",
   "nbconvert_exporter": "python",
   "pygments_lexer": "ipython3",
   "version": "3.11.5"
  }
 },
 "nbformat": 4,
 "nbformat_minor": 2
}
